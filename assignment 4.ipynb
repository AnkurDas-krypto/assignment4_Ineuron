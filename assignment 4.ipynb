{
 "cells": [
  {
   "cell_type": "markdown",
   "metadata": {},
   "source": [
    "#### .1 Write a Python Program(with class concepts) to find the area of the triangle using the below  formula. \n",
    "area = (s*(s-a)*(s-b)*(s-c)) ** 0.5 \n",
    "Function to take the length of the sides of triangle from user should be defined in the parent  class and function to calculate the area should be defined in subclass. \n",
    " "
   ]
  },
  {
   "cell_type": "code",
   "execution_count": null,
   "metadata": {},
   "outputs": [],
   "source": [
    "class Length:\n",
    "    def __init__(self, a, b, c):\n",
    "        print(\"Enter the sides\")\n",
    "        self.a = int(input())\n",
    "        self.b = int(input())\n",
    "        self.c = int(input())\n",
    "    \n",
    "        \n",
    "        \n",
    "class Area(Length):\n",
    "    def area(self, a, b, c):\n",
    "        s = (self.a+self.b+self.c)/2\n",
    "       \n",
    "        areas = (s*(s-self.a)*(s-self.b)*(s-self.c)) ** 0.5 \n",
    "        return (round(areas, 2))\n",
    "        #print('Area of triangle:', area)\n",
    "\n",
    "        \n",
    "obj = Area(a,b,c)\n",
    "print('area of triangle is',obj.area(a,b,c))\n",
    "     "
   ]
  },
  {
   "cell_type": "markdown",
   "metadata": {},
   "source": [
    "#### 2 Write a function filter_long_words() that takes a list of words and an integer n and returns  the list of words that are longer than n. "
   ]
  },
  {
   "cell_type": "code",
   "execution_count": 41,
   "metadata": {},
   "outputs": [
    {
     "name": "stdout",
     "output_type": "stream",
     "text": [
      "enter n\n",
      "3\n",
      "enter no of words u want to input\n",
      "3\n",
      "sas\n",
      "dssa\n",
      "a\n",
      "['dssa']\n"
     ]
    }
   ],
   "source": [
    "\n",
    "def filter_long_words(n, lst):\n",
    "    lst_of_words = []\n",
    "    for i in range(len(lst)):\n",
    "        if len(lst[i]) > n:\n",
    "            lst_of_words.append(lst[i])\n",
    "    return (lst_of_words)        \n",
    "            \n",
    "    \n",
    "if __name__ == '__main__':\n",
    "\n",
    "\n",
    "    print(\"enter n\")\n",
    "    n = int(input())\n",
    "    print(\"enter no of words u want to input\")\n",
    "    m = int(input())\n",
    "    lst = [input() for i in range(m)]  \n",
    "    final = filter_long_words(n, lst)\n",
    "    print(final)\n",
    "\n",
    "    \n",
    "    \n",
    "    \n",
    "\n"
   ]
  },
  {
   "cell_type": "markdown",
   "metadata": {},
   "source": [
    "####  Write a Python program using function concept that maps list of words into a list of integers  representing the lengths of the corresponding words. \n",
    "Hint: If a list [ ab,cde,erty] is passed on to the python function output should come as [2,3,4] Here 2,3 and 4 are the lengths of the words in the list. "
   ]
  },
  {
   "cell_type": "code",
   "execution_count": 46,
   "metadata": {},
   "outputs": [
    {
     "name": "stdout",
     "output_type": "stream",
     "text": [
      "enter no of words\n",
      "3\n",
      "enter the words\n",
      "sada\n",
      "fada\n",
      "ghabhs\n",
      "[4, 4, 6]\n"
     ]
    }
   ],
   "source": [
    "def list_of_integer(lst):\n",
    "    num = []\n",
    "    for i in range(len(lst)):\n",
    "        num.append(len(lst[i]))\n",
    "    return num\n",
    "\n",
    " \n",
    "    \n",
    "if __name__ == '__main__':    \n",
    "    print('enter no of words')\n",
    "    m = int(input())\n",
    "    print(\"enter the words\")\n",
    "    lst = [input() for i in range(m)] \n",
    "    n = list_of_integer(lst)\n",
    "    print(n)\n"
   ]
  },
  {
   "cell_type": "markdown",
   "metadata": {},
   "source": [
    "#### .2 Write a Python function which takes a character (i.e. a string of length 1) and returns True if  it is a vowel, False otherwise. "
   ]
  },
  {
   "cell_type": "code",
   "execution_count": 55,
   "metadata": {},
   "outputs": [
    {
     "name": "stdout",
     "output_type": "stream",
     "text": [
      "enter a character\n",
      "t\n",
      "False\n"
     ]
    }
   ],
   "source": [
    "def vowels(m):\n",
    "    if len(m)>1:\n",
    "         return(\"character should be of length 1\")\n",
    "          \n",
    "        \n",
    "    if m in vowel:\n",
    "        return True\n",
    "    else:\n",
    "        return False\n",
    "    \n",
    "    \n",
    "    \n",
    "    \n",
    "if __name__ == '__main__':\n",
    "    vowel = ['a','e','i','o','u']\n",
    "    print('enter a character')\n",
    "    m = input()\n",
    "        \n",
    "    final = vowels(m)\n",
    "    print(final)"
   ]
  },
  {
   "cell_type": "code",
   "execution_count": null,
   "metadata": {},
   "outputs": [],
   "source": []
  },
  {
   "cell_type": "code",
   "execution_count": null,
   "metadata": {},
   "outputs": [],
   "source": []
  }
 ],
 "metadata": {
  "kernelspec": {
   "display_name": "Python 3",
   "language": "python",
   "name": "python3"
  },
  "language_info": {
   "codemirror_mode": {
    "name": "ipython",
    "version": 3
   },
   "file_extension": ".py",
   "mimetype": "text/x-python",
   "name": "python",
   "nbconvert_exporter": "python",
   "pygments_lexer": "ipython3",
   "version": "3.7.1"
  }
 },
 "nbformat": 4,
 "nbformat_minor": 4
}
